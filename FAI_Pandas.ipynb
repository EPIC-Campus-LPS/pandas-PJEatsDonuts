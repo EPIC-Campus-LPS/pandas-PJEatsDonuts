{
 "cells": [
  {
   "cell_type": "markdown",
   "metadata": {},
   "source": [
    "# Lab 0.5 - Manipulating Datasets with Pandas\n",
    "\n",
    "## Objective\n",
    "- Install and learn the basics of the `pandas` library.\n",
    "- Manipulate and analyze datasets, finding basic statistics and adding/removing columns.\n",
    "- Create data visualizations using `matplotlib`.\n",
    "\n",
    "## Rubric\n",
    "- 6 pts - Contains all required components and uses professional language and commenting\n",
    "- 5 pts - Contains all required components, but uses unprofessional language, commenting, etc. \n",
    "- 4 pts - Contains some, but not all, of the required components\n",
    "- 3 pts - Did not submit"
   ]
  },
  {
   "cell_type": "markdown",
   "metadata": {},
   "source": [
    "# Instructions\n",
    "\n",
    "Fill in the following code boxes. **Answer the numbered questions in comments next to the code you used to find the answer**."
   ]
  },
  {
   "cell_type": "markdown",
   "metadata": {},
   "source": [
    "# Problem 1: Weather Data\n",
    "\n",
    "We are going to analyze the dataset you created. Use `import pandas as pd` to import the `pandas` library. Then use `df = pd.read_csv(\"filename.csv\")` to create a `DataFrame` called `df`. "
   ]
  },
  {
   "cell_type": "code",
   "execution_count": 3,
   "metadata": {},
   "outputs": [],
   "source": [
    "import pandas as pd \n",
    "df = pd.read_csv(\"weather.csv\")"
   ]
  },
  {
   "cell_type": "markdown",
   "metadata": {},
   "source": [
    "1. What is the last entry in your table?"
   ]
  },
  {
   "cell_type": "code",
   "execution_count": 4,
   "metadata": {},
   "outputs": [
    {
     "data": {
      "text/html": [
       "<div>\n",
       "<style scoped>\n",
       "    .dataframe tbody tr th:only-of-type {\n",
       "        vertical-align: middle;\n",
       "    }\n",
       "\n",
       "    .dataframe tbody tr th {\n",
       "        vertical-align: top;\n",
       "    }\n",
       "\n",
       "    .dataframe thead th {\n",
       "        text-align: right;\n",
       "    }\n",
       "</style>\n",
       "<table border=\"1\" class=\"dataframe\">\n",
       "  <thead>\n",
       "    <tr style=\"text-align: right;\">\n",
       "      <th></th>\n",
       "      <th>datetime</th>\n",
       "      <th>temp_c</th>\n",
       "      <th>temp_f</th>\n",
       "      <th>humidity</th>\n",
       "    </tr>\n",
       "  </thead>\n",
       "  <tbody>\n",
       "    <tr>\n",
       "      <th>781</th>\n",
       "      <td>02/04/25 19:43</td>\n",
       "      <td>22.3</td>\n",
       "      <td>72.1</td>\n",
       "      <td>27.3%</td>\n",
       "    </tr>\n",
       "    <tr>\n",
       "      <th>782</th>\n",
       "      <td>02/04/25 19:58</td>\n",
       "      <td>22.0</td>\n",
       "      <td>71.6</td>\n",
       "      <td>27.2%</td>\n",
       "    </tr>\n",
       "    <tr>\n",
       "      <th>783</th>\n",
       "      <td>02/04/25 20:13</td>\n",
       "      <td>21.7</td>\n",
       "      <td>71.1</td>\n",
       "      <td>27.5%</td>\n",
       "    </tr>\n",
       "    <tr>\n",
       "      <th>784</th>\n",
       "      <td>02/04/25 20:18</td>\n",
       "      <td>21.8</td>\n",
       "      <td>71.2</td>\n",
       "      <td>27.5%</td>\n",
       "    </tr>\n",
       "  </tbody>\n",
       "</table>\n",
       "</div>"
      ],
      "text/plain": [
       "           datetime  temp_c  temp_f humidity\n",
       "781  02/04/25 19:43    22.3    72.1    27.3%\n",
       "782  02/04/25 19:58    22.0    71.6    27.2%\n",
       "783  02/04/25 20:13    21.7    71.1    27.5%\n",
       "784  02/04/25 20:18    21.8    71.2    27.5%"
      ]
     },
     "execution_count": 4,
     "metadata": {},
     "output_type": "execute_result"
    }
   ],
   "source": [
    "df.tail(4)"
   ]
  },
  {
   "cell_type": "markdown",
   "metadata": {},
   "source": [
    "2. What is the average temperature(either outside or inside) over your 40 hour period. What is the lowest temperature? What is the highest temperature? "
   ]
  },
  {
   "cell_type": "markdown",
   "metadata": {},
   "source": [
    "### `pandas` method reference\n",
    "\n",
    "- `df.head(x)` and `df.tail(x)` will give you the first or the last `x` number of rows respectively\n",
    "- `df.describe()` will give you a **five number summary** of the numeric columns\n",
    "- `df.max()` and `.min()` will with you the maximum and the minimum of the column repectively\n",
    "- `df[column]` will give you the column specified\n",
    "- `df.iloc[index]` will give you the row at a given index\n",
    "- `df.boxplot` will create a box plot of all numeric columns\n",
    "- `df.sort_values(by=col, ascending=False)`sorts the values of the col in either ascending or descending order\n"
   ]
  },
  {
   "cell_type": "code",
   "execution_count": 5,
   "metadata": {},
   "outputs": [
    {
     "name": "stdout",
     "output_type": "stream",
     "text": [
      "This is the average: \n",
      "\n",
      "           temp_c      temp_f\n",
      "count  785.000000  785.000000\n",
      "mean    20.516051   68.927771\n",
      "std      0.785144    1.413309\n",
      "min     19.100000   66.400000\n",
      "25%     20.000000   68.000000\n",
      "50%     20.100000   68.200000\n",
      "75%     21.000000   69.800000\n",
      "max     23.000000   73.400000 \n",
      "\n",
      "This is the max: \n",
      "\n",
      "datetime    02/04/25 20:18\n",
      "temp_c                23.0\n",
      "temp_f                73.4\n",
      "humidity             33.5%\n",
      "dtype: object \n",
      "\n",
      "This is the min: \n",
      "\n",
      "datetime    01/31/25 20:31\n",
      "temp_c                19.1\n",
      "temp_f                66.4\n",
      "humidity             20.9%\n",
      "dtype: object\n"
     ]
    }
   ],
   "source": [
    "print(\"This is the average: \\n\")\n",
    "print(df.describe(),\"\\n\")\n",
    "print(\"This is the max: \\n\")\n",
    "print(df.max(), \"\\n\")\n",
    "print(\"This is the min: \\n\")\n",
    "print(df.min())"
   ]
  },
  {
   "cell_type": "markdown",
   "metadata": {},
   "source": [
    "3. Create a boxplot of the temperatures."
   ]
  },
  {
   "cell_type": "code",
   "execution_count": 6,
   "metadata": {},
   "outputs": [
    {
     "name": "stdout",
     "output_type": "stream",
     "text": [
      "Boxplot: \n",
      " <bound method boxplot_frame of            datetime  temp_c  temp_f humidity\n",
      "0    01/31/25 20:31    21.7    71.1    22.5%\n",
      "1    01/31/25 20:36    21.3    70.3    22.7%\n",
      "2    01/31/25 21:01    21.7    71.1    21.9%\n",
      "3    01/31/25 21:06    21.9    71.4    21.6%\n",
      "4    01/31/25 21:11    22.1    71.8    21.7%\n",
      "..              ...     ...     ...      ...\n",
      "780  02/04/25 19:38    21.9    71.4    27.5%\n",
      "781  02/04/25 19:43    22.3    72.1    27.3%\n",
      "782  02/04/25 19:58    22.0    71.6    27.2%\n",
      "783  02/04/25 20:13    21.7    71.1    27.5%\n",
      "784  02/04/25 20:18    21.8    71.2    27.5%\n",
      "\n",
      "[785 rows x 4 columns]>\n"
     ]
    }
   ],
   "source": [
    "print(\"Boxplot: \\n\", df.boxplot)"
   ]
  },
  {
   "cell_type": "markdown",
   "metadata": {},
   "source": [
    "4. Create a plot of temperature over time with `matplotlib`. \n",
    "\n",
    "Import the library with `import matplotlib.pyplot as plt`. The `plot()` method creates a line graphs of temperature over time. Use `plt.plot(df['x_col'],df['y_col'],marker='h')` then `plt.show()` to create your plot of temperature over time. \n",
    "\n",
    "Before `plt.show()`, add the following methods to modify your graph. Remember, **good graphs always have axis labels, a title, clear units etc.**\n",
    "\n",
    "```\n",
    "plt.xlabel('') # labels the x-axis\n",
    "plt.ylabel('') # labels the y-axis\n",
    "plt.title('') # adds a graph title\n",
    "plt.grid() # adds gridlines\n",
    "plt.legend() # adds a legend\n",
    "plt.xticks(rotation=90) # rotates the x-axis tick lables\n",
    "plt.yticks(rotation=90) # rotates the y-axis tick lables\n",
    "```"
   ]
  },
  {
   "cell_type": "code",
   "execution_count": 7,
   "metadata": {},
   "outputs": [
    {
     "data": {
      "image/png": "[encoded data removed]",
      "text/plain": [
       "<Figure size 640x480 with 1 Axes>"
      ]
     },
     "metadata": {},
     "output_type": "display_data"
    }
   ],
   "source": [
    "import matplotlib.pyplot as plt\n",
    "plt.plot(df['datetime'],df['temp_c'],marker='h')\n",
    "plt.xlabel('Date & Time')\n",
    "plt.ylabel('Temperature Celcius')\n",
    "plt.grid()\n",
    "plt.grid(axis='x')\n",
    "\n",
    "tempC = df['temp_c']\n",
    "\n",
    "plt.legend(tempC)\n",
    "\n",
    "plt.show()"
   ]
  },
  {
   "cell_type": "code",
   "execution_count": 8,
   "metadata": {},
   "outputs": [
    {
     "name": "stdout",
     "output_type": "stream",
     "text": [
      "0      01/31/25 20:31\n",
      "1      01/31/25 20:36\n",
      "2      01/31/25 21:01\n",
      "3      01/31/25 21:06\n",
      "4      01/31/25 21:11\n",
      "            ...      \n",
      "780    02/04/25 19:38\n",
      "781    02/04/25 19:43\n",
      "782    02/04/25 19:58\n",
      "783    02/04/25 20:13\n",
      "784    02/04/25 20:18\n",
      "Name: datetime, Length: 785, dtype: object\n",
      "0\n",
      "60:1  52/4ty\n"
     ]
    }
   ],
   "source": [
    "convert = str(df['datetime'])\n",
    "print(convert)\n",
    "convert = convert[::21]\n",
    "print(convert)"
   ]
  },
  {
   "cell_type": "markdown",
   "metadata": {},
   "source": [
    "import matplotlib.pyplot as plt\n",
    "plt.plot(df['Time'],df['Humidity'], marker = 'h')\n",
    "plt.xlabel('Time')\n",
    "plt.ylabel('Humidity')\n",
    "plt.show()\n"
   ]
  },
  {
   "cell_type": "markdown",
   "metadata": {},
   "source": [
    "5. Define a new column called `kelvin` which is your `celsius` column + 273.15. "
   ]
  },
  {
   "cell_type": "code",
   "execution_count": 9,
   "metadata": {},
   "outputs": [
    {
     "data": {
      "image/png": "[encoded data removed]",
      "text/plain": [
       "<Figure size 640x480 with 1 Axes>"
      ]
     },
     "metadata": {},
     "output_type": "display_data"
    }
   ],
   "source": [
    "import matplotlib.pyplot as plt \n",
    "\n",
    "kelvin = df['temp_c'] + 273.15\n",
    "plt.plot(df['datetime'], kelvin, marker = 'h')\n",
    "\n",
    "plt.xlabel('Date & Time')\n",
    "plt.ylabel('Kelvin')\n",
    "\n",
    "plt.grid()\n",
    "plt.grid(axis='x')\n",
    "\n",
    "plt.show()"
   ]
  },
  {
   "cell_type": "markdown",
   "metadata": {},
   "source": [
    "### `pandas` method reference\n",
    "\n",
    "- `df.head(x)` and `df.tail(x)` will give you the first or the last `x` number of rows respectively\n",
    "- `df.describe()` will give you a **five number summary** of the numeric columns\n",
    "- `df.max()` and `.min()` will with you the maximum and the minimum of the column repectively\n",
    "- `df[column]` will give you the column specified\n",
    "- `df.iloc[index]` will give you the row at a given index\n",
    "- `df.boxplot` will create a box plot of all numeric columns\n",
    "- `df.sort_values(by=col, ascending=False)`sorts the values of the col in either ascending or descending order\n"
   ]
  },
  {
   "cell_type": "markdown",
   "metadata": {},
   "source": [
    "6. Get the record(row) at 2:30PM \n"
   ]
  },
  {
   "cell_type": "code",
   "execution_count": 10,
   "metadata": {},
   "outputs": [
    {
     "data": {
      "text/plain": [
       "datetime    01/31/25 21:06\n",
       "temp_c                21.9\n",
       "temp_f                71.4\n",
       "humidity             21.6%\n",
       "Name: 3, dtype: object"
      ]
     },
     "execution_count": 10,
     "metadata": {},
     "output_type": "execute_result"
    }
   ],
   "source": [
    "df.iloc[3]\n"
   ]
  },
  {
   "cell_type": "markdown",
   "metadata": {},
   "source": [
    "# Problem 2: Population Data\n",
    "\n",
    "In this example we will fetch data about countries and their predicted populations from [Wikipedia](http://en.wikipedia.org/wiki/List_of_countries_by_past_and_future_population).\n",
    "\n",
    "I have done the web scraping and creation of a `DataFrame`,`df_a`."
   ]
  },
  {
   "cell_type": "code",
   "execution_count": null,
   "metadata": {},
   "outputs": [
    {
     "name": "stdout",
     "output_type": "stream",
     "text": [
      "                       countries        2024        2030         2100\n",
      "0                          World  8118836000  8546141000  22901278109\n",
      "1                           Asia  4785060000  4958807000  12902801109\n",
      "2                         Africa  1494994000  1710666000   3924421000\n",
      "3             Sub-Saharan Africa  1226534000  1417346000   3442347000\n",
      "4    Central Asia and South Asia  2128585000  2258687000   2559659000\n",
      "..                           ...         ...         ...          ...\n",
      "253                    Venezuela    29395334    32027461     35353213\n",
      "254                      Vietnam    99497680   102699905     91036732\n",
      "255                        Yemen    35219853    39923245     74176034\n",
      "256                       Zambia    21314956    25024901     64473916\n",
      "257                     Zimbabwe    16634373    18610348     37166572\n",
      "\n",
      "[258 rows x 4 columns]\n",
      "[['World', 8118836000, 8546141000, 22901278109], ['Asia', 4785060000, 4958807000, 12902801109], ['Africa', 1494994000, 1710666000, 3924421000], ['Sub-Saharan Africa', 1226534000, 1417346000, 3442347000], ['Central Asia and South Asia', 2128585000, 2258687000, 2559659000], ['South Asia', 2049313000, 2173354000, 2433583000], ['East Asia and Southeast Asia', 2354122000, 2372658000, 1652016000], ['North Africa and Western Asia', 570814000, 620782000, 944647000], ['East Asia', 1661450000, 1647994000, 911277000], ['Southeast Asia', 692671000, 724664000, 740740000], ['Latin America and the Caribbean', 669973000, 697585000, 647400000], ['Europe', 741652000, 736574000, 586515000], ['North Africa', 268460000, 293321000, 482073000], ['Western Asia', 302354000, 327462000, 462574000], ['North America', 381048000, 393297000, 448026000], ['South America', 442861000, 460220000, 425794000], ['Central America', 182236000, 191252000, 181688000], ['Central Asia', 79271000, 85333000, 126077000], ['Oceania', 46109000, 49212000, 68712000], ['Caribbean', 44876000, 46113000, 39917000], ['Oceania (excluding Australia and New Zealand)', 14140000, 15514000, 24553000], ['Afghanistan', 42647492, 50039402, 130216739], ['Albania', 2791765, 2671885, 1184997], ['Algeria', 46814308, 50154166, 64487527], ['American Samoa', 46765, 42958, 32293], ['Andorra', 81938, 85682, 47222], ['Angola', 37885849, 45160458, 150045574], ['Anguilla', 14598, 14977, 9309], ['Antigua and Barbuda', 93772, 96000, 67975], ['Argentina', 45696159, 46585022, 38255990], ['Armenia', 2973840, 2851291, 1692198], ['Aruba', 108066, 107864, 75170], ['Australia', 26713205, 28188539, 43143685], ['Austria', 9120813, 9080346, 7399328], ['Azerbaijan', 10336578, 10665380, 10021320], ['Bahamas', 401283, 410266, 384955], ['Bangladesh', 174701211, 184424144, 176366038], ['Barbados', 282309, 283082, 203022], ['Bahrain', 1607049, 1765209, 3090323], ['Belize', 416656, 450428, 562797], ['Belarus', 9455037, 9206170, 6469457], ['Belgium', 11715774, 11873460, 11521156], ['Benin', 14080072, 16393827, 46617384], ['Bermuda', 63935, 62806, 36985], ['Bolivia', 12567336, 13625507, 18861521], ['Bonaire', 27272, 27904, 28971], ['Bulgaria', 6618615, 6290166, 2943542], ['Bosnia and Herzegovina', 3194378, 3111789, 1739032], ['Botswana', 2719694, 2972271, 4177614], ['Brazil', 217637297, 223908968, 184547593], ['British Virgin Islands', 31763, 32995, 31668], ['Brunei', 455858, 473312, 404521], ['Burkina Faso', 23840247, 27523563, 61539300], ['Burundi', 13591657, 15800530, 39388467], ['Bhutan', 792382, 821498, 654430], ['United Kingdom', 67961439, 69175770, 70485072], ['Hungary', 9994993, 9642912, 6929830], ['United States Virgin Islands', 98055, 93419, 37962], ['Gabon', 2484557, 2774523, 5268088], ['Haiti', 11867030, 12700006, 16109408], ['Guyana', 819594, 848033, 632627], ['Gambia', 2841803, 3263651, 6667396], ['Ghana', 34777522, 38775850, 72826468], ['Guadeloupe', 396346, 399728, 318692], ['Guatemala', 18358430, 20003638, 26170739], ['Guinea-Bissau', 2197149, 2484863, 4765962], ['Guinea', 14528770, 16622388, 34178283], ['Germany', 83252474, 82762675, 68936102], ['Guernsey', 63788, 65141, 56453], ['Gibraltar', 32718, 32771, 23865], ['Honduras', 10759406, 11724522, 15166663], ['Palestine', 5494963, 6256949, 12805184], ['Grenada', 126887, 130367, 115630], ['Greenland', 56789, 57152, 40586], ['Greece', 10302720, 10059703, 6380722], ['Georgia', 3717425, 3657494, 2366909], ['Guam', 174114, 180746, 183221], ['Denmark', 5939695, 6104474, 7093770], ['Jersey', 112843, 119047, 161397], ['Djibouti', 1152329, 1247129, 1676909], ['Dominica', 73368, 74988, 52912], ['Dominican Republic', 11434005, 11982523, 11908081], ['Egypt', 114484252, 125151725, 205225076], ['Western Sahara', 598385, 662726, 1121874], ['Israel', 9311652, 10134951, 18410403], ['India', 1441719852, 1514994080, 1529850119], ['Indonesia', 279798049, 292150100, 296623475], ['Jordan', 11384922, 11933395, 17625253], ['Iraq', 46523657, 52800825, 111503537], ['Iran', 89809781, 92921017, 79906390], ['Ireland', 5089478, 5266881, 5722314], ['Iceland', 377689, 390338, 368486], ['Spain', 47473373, 47076573, 30880752], ['Italy', 58697744, 57544258, 36874247], ['North Korea', 26244582, 26569401, 20473590], ['Cape Verde', 604461, 638840, 667365], ['Kazakhstan', 19828165, 21128221, 34093330], ['Cayman Islands', 69885, 72865, 78712], ['Cambodia', 17121847, 18084248, 19118804], ['Cameroon', 29394433, 34051103, 87093219], ['Canada', 39107046, 41008596, 53903779], ['Qatar', 2737061, 2855291, 4379295], ['Kenya', 56203030, 63103942, 112525079], ['Cyprus', 1268467, 1311784, 1337053], ['Kiribati', 135763, 148720, 238673], ['Hong Kong', 7496681, 7485887, 4852441], ['Macau', 713082, 763371, 1031184], ['China', 1425178782, 1415605906, 633368108], ['Colombia', 52340774, 54129764, 45837096], ['Comoros', 867605, 959412, 1570166], ['Democratic Republic of the Congo', 105625114, 127582053, 432378400], ['Republic of the Congo', 6244547, 7114987, 17181630], ['Kosovo', 1667483, 1690888, 944539], ['Costa Rica', 5246714, 5432243, 4533000], ['Ivory Coast', 29603302, 34211272, 89366995], ['Cuba', 11174587, 11016041, 6478341], ['Kuwait', 4349380, 4564570, 4895806], ['Kyrgyzstan', 6839606, 7435378, 11975365], ['Curaçao', 192965, 197829, 193807], [\"Lao People's Democratic Republic\", 7736681, 8321287, 9694234], ['Latvia', 1810240, 1701338, 954183], ['Lesotho', 2356083, 2501946, 2967268], ['Liberia', 5536949, 6282074, 13226140], ['Lebanon', 5219044, 4714240, 4745074], ['Libya', 6964197, 7394813, 8473050], ['Lithuania', 2692798, 2558928, 1503077], ['Liechtenstein', 39822, 41030, 41474], ['Luxembourg', 661594, 697086, 879481], ['Mauritius', 1301978, 1305425, 846900], ['Mauritania', 4993922, 5830563, 15450985], ['Madagascar', 31056610, 35604443, 83316557], ['Mayotte', 345996, 407579, 1356379], ['Malawi', 21475962, 24944243, 58521719], ['Malaysia', 34671895, 36687569, 39474474], ['Mali', 24015789, 28712294, 87079523], ['Maldives', 517887, 512683, 469441], ['Malta', 536740, 543425, 386365], ['Morocco', 38211459, 40226395, 43933296], ['Martinique', 366416, 362472, 230357], ['Marshall Islands', 42415, 44733, 50977], ['Mexico', 129388467, 134534107, 115626629], ['Mozambique', 34858402, 40920707, 106196946], ['Republic of Moldova', 3329865, 3174727, 2457142], ['Monaco', 36157, 35862, 50858], ['Mongolia', 3493629, 3736327, 5257218], ['Montserrat', 4372, 4301, 2575], ['Burma', 54964694, 56987625, 52417687], ['Namibia', 2645805, 2910056, 5018497], ['Nauru', 12884, 13358, 12380], ['Nepal', 31240315, 33133395, 33769507], ['Niger', 28238972, 35217942, 167008298], ['Nigeria', 229152217, 262580426, 546091662], ['Netherlands', 17671125, 17943803, 16580142], ['Nicaragua', 7142529, 7688686, 9138044], ['Niue', 1935, 1948, 2225], ['New Zealand', 5269939, 5495670, 6069341], ['New Caledonia', 295966, 312529, 366575], ['Norway', 5514477, 5748397, 7219859], ['United Arab Emirates', 9591853, 10004319, 14089004], ['Oman', 4713553, 5093376, 7838991], ['Isle of Man', 84904, 85798, 88338], ['Cook Islands', 17072, 17253, 16764], ['Wallis and Futuna', 11439, 11229, 9887], ['Pakistan', 245209815, 274029836, 487017405], ['Palau', 18051, 17919, 14005], ['Panama', 4527961, 4864126, 6206167], ['Papua New Guinea', 10515788, 11615322, 18548056], ['Paraguay', 6947270, 7425448, 8605016], ['Peru', 34683444, 36702393, 42102154], ['Poland', 40221726, 38700518, 23082363], ['Portugal', 10223349, 10062183, 6885463], ['Puerto Rico', 3268802, 3259722, 1274146], ['South Korea', 51741963, 51290214, 24102932], ['Réunion', 989350, 1031822, 1113971], ['Russia', 143957079, 141432741, 112068747], ['Rwanda', 14414910, 16375704, 33811630], ['Romania', 19618996, 19023383, 13105206], ['United States', 341814420, 352162301, 394041155], ['El Salvador', 6396289, 6554224, 4284249], ['Samoa', 228966, 248627, 441188], ['San Marino', 33614, 33458, 26093], ['São Tomé and Príncipe', 236381, 265036, 531758], ['Saint Lucia', 180805, 183274, 121531], ['Saudi Arabia', 37473929, 40461368, 50468334], ['Saint Helena Ascension and Tristan da Cunha', 5253, 4895, 2803], ['Saint Barthélemy', 11019, 11113, 5153], ['Saint Vincent and the Grenadines', 103683, 104322, 72701], ['Saint Martin', 32337, 33508, 34465], ['Vatican City', 526, 561, 1237], ['North Macedonia', 2082706, 2072256, 1209753], ['Northern Mariana Islands', 50025, 51178, 41446], ['Seychelles', 108263, 111317, 103654], ['Senegal', 18221567, 21125872, 62054836], ['Saint Kitts and Nevis', 47847, 48247, 35941], ['Saint Pierre and Miquelon', 5815, 5651, 3615], ['Serbia', 7097028, 6832604, 3266060], ['Singapore', 6052709, 6251988, 5446430], ['Sint Maarten', 44309, 44946, 26082], ['Syria', 24348053, 29824735, 43472700], ['Slovakia', 5702832, 5555114, 3854319], ['Slovenia', 2118965, 2105945, 1666113], ['Solomon Islands', 756673, 856264, 2003495], ['Somalia', 18706922, 22316857, 66335733], ['Sudan', 49358228, 56997099, 141996160], ['Suriname', 628785, 659508, 705343], ['Sierra Leone', 8977972, 10105188, 16965728], ['Tajikistan', 10331513, 11421430, 20398913], ['Thailand', 71885799, 72060018, 44570978], ['Republic of China', 23950214, 24027999, 15241961], ['Tanzania', 69419073, 81885304, 244819886], ['Timor-Leste', 1379883, 1495081, 1804542], ['Togo', 9260864, 10558178, 26980350], ['Tokelau', 1915, 2046, 2805], ['Tonga', 108683, 114124, 129891], ['Trinidad and Tobago', 1538200, 1547690, 1055540], ['Tuvalu', 11478, 11917, 14207], ['Tunisia', 12564689, 13100768, 13530731], ['Turks and Caicos Islands', 46431, 48538, 55676], ['Turkmenistan', 6598071, 7034758, 8814388], ['Turkey', 86260417, 88879698, 82549012], ['Uganda', 49924252, 58380262, 132127044], ['Uzbekistan', 35673804, 38313228, 50794586], ['Ukraine', 37937821, 38295429, 20432787], ['Uruguay', 3423316, 3423372, 2409371], ['Faroe Islands', 53444, 54583, 68513], ['Federated States of Micronesia', 116300, 122704, 115353], ['Fiji', 943072, 986172, 1048164], ['Philippines', 119106224, 129453321, 180147660], ['Finland', 5549886, 5565475, 5023926], ['Falkland Islands', 3803, 3869, 2773], ['France', 64881830, 65543452, 60851673], ['French Guiana', 319796, 366669, 928830], ['French Polynesia', 311383, 324860, 281829], ['Croatia', 3986627, 3850140, 2113899], ['Central African Republic', 5915627, 7104274, 18793631], ['Chad', 18847148, 22460393, 65152512], ['Montenegro', 626102, 621696, 429267], ['Czech Republic', 10503734, 10515199, 11172303], ['Chile', 19658839, 19933769, 16798533], ['Switzerland', 8851431, 9143698, 10439548], ['Sweden', 10673669, 11007228, 13187841], ['Sri Lanka', 21949268, 22186970, 14694772], ['Ecuador', 18377367, 19486952, 21448228], ['Equatorial Guinea', 1754993, 1999678, 3855777], ['Eritrea', 3817651, 4283355, 8575294], ['Eswatini', 1222075, 1305985, 1992790], ['Estonia', 1319041, 1289441, 835708], ['Ethiopia', 129719719, 149296378, 323741600], ['South Africa', 61020221, 64659278, 74559590], ['South Sudan', 11277092, 12570402, 23720027], ['Japan', 122631432, 118514802, 73644064], ['Jamaica', 2824738, 2804356, 897072], ['Vanuatu', 342325, 391135, 1019379], ['Venezuela', 29395334, 32027461, 35353213], ['Vietnam', 99497680, 102699905, 91036732], ['Yemen', 35219853, 39923245, 74176034], ['Zambia', 21314956, 25024901, 64473916], ['Zimbabwe', 16634373, 18610348, 37166572]] \n",
      "\n",
      "['countries', 2024, 2030, 2100]\n"
     ]
    }
   ],
   "source": [
    "import numpy as np\n",
    "import pandas as pd\n",
    "import requests\n",
    "from bs4 import BeautifulSoup\n",
    "\n",
    "\n",
    "url = 'http://en.wikipedia.org/wiki/List_of_countries_by_past_and_future_population'\n",
    "page = requests.get(url)\n",
    "soup = BeautifulSoup(page.content, \"html.parser\")\n",
    "\n",
    "tbody = soup.find_all(\"tbody\")\n",
    "tr = tbody[0].find_all(\"tr\")\n",
    "arr = []\n",
    "mat = []\n",
    "for t in tr:\n",
    "    lst = t.text.split(\"\\n\")\n",
    "    for l in lst:\n",
    "        if l == \"\":\n",
    "            if arr != []:\n",
    "                arr = arr[0:2] + arr[2::2]\n",
    "                mat.append(arr)\n",
    "                arr = []\n",
    "        else:\n",
    "            try: \n",
    "                arr.append(int(l.lstrip('\\xa0').replace(\",\",\"\")))\n",
    "            except ValueError:\n",
    "                arr.append(str(l.lstrip('\\xa0').replace(\",\",\"\")))\n",
    "titles = mat[0] #helps change country column name to \"country\"\n",
    "titles[0] = \"countries\"  #whatever position is chosen as the index is the row where \"countries\" is labeled\n",
    "mat = mat[1:] #changes it so \"countries\" is the 1st row. doing [2:] would get rid of the \"World\" row, but keep the rest. \n",
    "df_a = pd.DataFrame.from_records(mat, columns=titles) \n",
    "print(df_a)\n",
    "print(mat, '\\n') #mat is the list of countries. each country starts with their name as their index, then the next index is population in 2024, 2030, and 2100\n",
    "print(titles)"
   ]
  },
  {
   "cell_type": "code",
   "execution_count": 12,
   "metadata": {},
   "outputs": [
    {
     "name": "stdout",
     "output_type": "stream",
     "text": [
      "Index(['countries', 2024, 2030, 2100], dtype='object')\n"
     ]
    }
   ],
   "source": [
    "print(df_a.columns)"
   ]
  },
  {
   "cell_type": "markdown",
   "metadata": {},
   "source": [
    "1. A 5 number summary of `df_a`"
   ]
  },
  {
   "cell_type": "code",
   "execution_count": 13,
   "metadata": {},
   "outputs": [
    {
     "data": {
      "text/html": [
       "<div>\n",
       "<style scoped>\n",
       "    .dataframe tbody tr th:only-of-type {\n",
       "        vertical-align: middle;\n",
       "    }\n",
       "\n",
       "    .dataframe tbody tr th {\n",
       "        vertical-align: top;\n",
       "    }\n",
       "\n",
       "    .dataframe thead th {\n",
       "        text-align: right;\n",
       "    }\n",
       "</style>\n",
       "<table border=\"1\" class=\"dataframe\">\n",
       "  <thead>\n",
       "    <tr style=\"text-align: right;\">\n",
       "      <th></th>\n",
       "      <th>2024</th>\n",
       "      <th>2030</th>\n",
       "      <th>2100</th>\n",
       "    </tr>\n",
       "  </thead>\n",
       "  <tbody>\n",
       "    <tr>\n",
       "      <th>count</th>\n",
       "      <td>2.580000e+02</td>\n",
       "      <td>2.580000e+02</td>\n",
       "      <td>2.580000e+02</td>\n",
       "    </tr>\n",
       "    <tr>\n",
       "      <th>mean</th>\n",
       "      <td>1.409838e+08</td>\n",
       "      <td>1.483421e+08</td>\n",
       "      <td>2.564182e+08</td>\n",
       "    </tr>\n",
       "    <tr>\n",
       "      <th>std</th>\n",
       "      <td>6.587727e+08</td>\n",
       "      <td>6.906787e+08</td>\n",
       "      <td>1.679245e+09</td>\n",
       "    </tr>\n",
       "    <tr>\n",
       "      <th>min</th>\n",
       "      <td>5.260000e+02</td>\n",
       "      <td>5.610000e+02</td>\n",
       "      <td>1.237000e+03</td>\n",
       "    </tr>\n",
       "    <tr>\n",
       "      <th>25%</th>\n",
       "      <td>5.999040e+05</td>\n",
       "      <td>6.259820e+05</td>\n",
       "      <td>6.768595e+05</td>\n",
       "    </tr>\n",
       "    <tr>\n",
       "      <th>50%</th>\n",
       "      <td>6.893438e+06</td>\n",
       "      <td>7.254900e+06</td>\n",
       "      <td>8.156020e+06</td>\n",
       "    </tr>\n",
       "    <tr>\n",
       "      <th>75%</th>\n",
       "      <td>3.483818e+07</td>\n",
       "      <td>3.830878e+07</td>\n",
       "      <td>5.201191e+07</td>\n",
       "    </tr>\n",
       "    <tr>\n",
       "      <th>max</th>\n",
       "      <td>8.118836e+09</td>\n",
       "      <td>8.546141e+09</td>\n",
       "      <td>2.290128e+10</td>\n",
       "    </tr>\n",
       "  </tbody>\n",
       "</table>\n",
       "</div>"
      ],
      "text/plain": [
       "               2024          2030          2100\n",
       "count  2.580000e+02  2.580000e+02  2.580000e+02\n",
       "mean   1.409838e+08  1.483421e+08  2.564182e+08\n",
       "std    6.587727e+08  6.906787e+08  1.679245e+09\n",
       "min    5.260000e+02  5.610000e+02  1.237000e+03\n",
       "25%    5.999040e+05  6.259820e+05  6.768595e+05\n",
       "50%    6.893438e+06  7.254900e+06  8.156020e+06\n",
       "75%    3.483818e+07  3.830878e+07  5.201191e+07\n",
       "max    8.118836e+09  8.546141e+09  2.290128e+10"
      ]
     },
     "execution_count": 13,
     "metadata": {},
     "output_type": "execute_result"
    }
   ],
   "source": [
    "df_a.describe()"
   ]
  },
  {
   "cell_type": "markdown",
   "metadata": {},
   "source": [
    "2. How is the `DataFrame` currently indexed? If it is not already, make the `countries` column the index."
   ]
  },
  {
   "cell_type": "code",
   "execution_count": 16,
   "metadata": {},
   "outputs": [
    {
     "name": "stdout",
     "output_type": "stream",
     "text": [
      "2030\n",
      "['countries', 2024, 2030, 2100]\n"
     ]
    }
   ],
   "source": [
    "print(df_a.columns[2])\n",
    "#mat?\n",
    "print(titles)\n",
    "#titles[3].max()\n",
    "#df_a = pd.DataFrame.from_records(mat, columns=titles)\n",
    "i = 0\n",
    "#while i < len(mat): \n",
    "    #element = mat[i][0]  #THIS mat[i][0] IS HOW TO ACCESS SPECIFIC COLUMNS THAT DON'T INCLUDE THE \"World\" COLUMN (DOUBLE CHECK THIS)\n",
    "    #i+=1\n",
    "    #print(element)\n",
    "#df_a = pd.DataFrame.from_records(mat, columns=DataFrame) \n",
    "\n",
    "#moved on\n"
   ]
  },
  {
   "cell_type": "code",
   "execution_count": 17,
   "metadata": {},
   "outputs": [
    {
     "name": "stdout",
     "output_type": "stream",
     "text": [
      "countries\n",
      "countries\n"
     ]
    },
    {
     "data": {
      "text/html": [
       "<div>\n",
       "<style scoped>\n",
       "    .dataframe tbody tr th:only-of-type {\n",
       "        vertical-align: middle;\n",
       "    }\n",
       "\n",
       "    .dataframe tbody tr th {\n",
       "        vertical-align: top;\n",
       "    }\n",
       "\n",
       "    .dataframe thead th {\n",
       "        text-align: right;\n",
       "    }\n",
       "</style>\n",
       "<table border=\"1\" class=\"dataframe\">\n",
       "  <thead>\n",
       "    <tr style=\"text-align: right;\">\n",
       "      <th></th>\n",
       "      <th>countries</th>\n",
       "      <th>2024</th>\n",
       "      <th>2030</th>\n",
       "      <th>2100</th>\n",
       "    </tr>\n",
       "  </thead>\n",
       "  <tbody>\n",
       "    <tr>\n",
       "      <th>0</th>\n",
       "      <td>World</td>\n",
       "      <td>8118836000</td>\n",
       "      <td>8546141000</td>\n",
       "      <td>22901278109</td>\n",
       "    </tr>\n",
       "    <tr>\n",
       "      <th>1</th>\n",
       "      <td>Asia</td>\n",
       "      <td>4785060000</td>\n",
       "      <td>4958807000</td>\n",
       "      <td>12902801109</td>\n",
       "    </tr>\n",
       "    <tr>\n",
       "      <th>2</th>\n",
       "      <td>Africa</td>\n",
       "      <td>1494994000</td>\n",
       "      <td>1710666000</td>\n",
       "      <td>3924421000</td>\n",
       "    </tr>\n",
       "    <tr>\n",
       "      <th>3</th>\n",
       "      <td>Sub-Saharan Africa</td>\n",
       "      <td>1226534000</td>\n",
       "      <td>1417346000</td>\n",
       "      <td>3442347000</td>\n",
       "    </tr>\n",
       "    <tr>\n",
       "      <th>4</th>\n",
       "      <td>Central Asia and South Asia</td>\n",
       "      <td>2128585000</td>\n",
       "      <td>2258687000</td>\n",
       "      <td>2559659000</td>\n",
       "    </tr>\n",
       "    <tr>\n",
       "      <th>...</th>\n",
       "      <td>...</td>\n",
       "      <td>...</td>\n",
       "      <td>...</td>\n",
       "      <td>...</td>\n",
       "    </tr>\n",
       "    <tr>\n",
       "      <th>253</th>\n",
       "      <td>Venezuela</td>\n",
       "      <td>29395334</td>\n",
       "      <td>32027461</td>\n",
       "      <td>35353213</td>\n",
       "    </tr>\n",
       "    <tr>\n",
       "      <th>254</th>\n",
       "      <td>Vietnam</td>\n",
       "      <td>99497680</td>\n",
       "      <td>102699905</td>\n",
       "      <td>91036732</td>\n",
       "    </tr>\n",
       "    <tr>\n",
       "      <th>255</th>\n",
       "      <td>Yemen</td>\n",
       "      <td>35219853</td>\n",
       "      <td>39923245</td>\n",
       "      <td>74176034</td>\n",
       "    </tr>\n",
       "    <tr>\n",
       "      <th>256</th>\n",
       "      <td>Zambia</td>\n",
       "      <td>21314956</td>\n",
       "      <td>25024901</td>\n",
       "      <td>64473916</td>\n",
       "    </tr>\n",
       "    <tr>\n",
       "      <th>257</th>\n",
       "      <td>Zimbabwe</td>\n",
       "      <td>16634373</td>\n",
       "      <td>18610348</td>\n",
       "      <td>37166572</td>\n",
       "    </tr>\n",
       "  </tbody>\n",
       "</table>\n",
       "<p>258 rows × 4 columns</p>\n",
       "</div>"
      ],
      "text/plain": [
       "                       countries        2024        2030         2100\n",
       "0                          World  8118836000  8546141000  22901278109\n",
       "1                           Asia  4785060000  4958807000  12902801109\n",
       "2                         Africa  1494994000  1710666000   3924421000\n",
       "3             Sub-Saharan Africa  1226534000  1417346000   3442347000\n",
       "4    Central Asia and South Asia  2128585000  2258687000   2559659000\n",
       "..                           ...         ...         ...          ...\n",
       "253                    Venezuela    29395334    32027461     35353213\n",
       "254                      Vietnam    99497680   102699905     91036732\n",
       "255                        Yemen    35219853    39923245     74176034\n",
       "256                       Zambia    21314956    25024901     64473916\n",
       "257                     Zimbabwe    16634373    18610348     37166572\n",
       "\n",
       "[258 rows x 4 columns]"
      ]
     },
     "execution_count": 17,
     "metadata": {},
     "output_type": "execute_result"
    }
   ],
   "source": [
    "print(df_a.columns[0])\n",
    "bane = df_a.columns[0]\n",
    "print(bane)\n",
    "\n",
    "#look at how this statement above: \"df_a = pd.DataFrame.from_records(mat, columns=titles)\" is \"indexed'\"\n",
    "\n",
    "df_a"
   ]
  },
  {
   "cell_type": "markdown",
   "metadata": {},
   "source": [
    "3. What is the largest population listed for 2030?"
   ]
  },
  {
   "cell_type": "code",
   "execution_count": 36,
   "metadata": {},
   "outputs": [
    {
     "name": "stdout",
     "output_type": "stream",
     "text": [
      "2030\n",
      "\n",
      " ['countries', 2024, 2030, 2100]\n",
      "\n",
      " countries       Zimbabwe\n",
      "2024          8118836000\n",
      "2030          8546141000\n",
      "2100         22901278109\n",
      "dtype: object\n",
      "\n",
      " max population for 2030 is 8546141000\n"
     ]
    }
   ],
   "source": [
    "print(df_a.columns[2])\n",
    "#mat?\n",
    "print('\\n', titles)\n",
    "print('\\n', df_a.max())\n",
    "print('\\n', \"max population for 2030 is 8546141000\") \n"
   ]
  },
  {
   "cell_type": "markdown",
   "metadata": {},
   "source": [
    "4. What was the population of Austria from now to 2100?"
   ]
  },
  {
   "cell_type": "code",
   "execution_count": 41,
   "metadata": {},
   "outputs": [
    {
     "name": "stdout",
     "output_type": "stream",
     "text": [
      "-1721485 people\n"
     ]
    }
   ],
   "source": [
    "print(mat[33][3]-mat[33][1], 'people')\n",
    "#subtracts austria popul. from 2100 to 2024\n"
   ]
  },
  {
   "cell_type": "markdown",
   "metadata": {},
   "source": [
    "5. What will the population be of France in 2030?"
   ]
  },
  {
   "cell_type": "code",
   "execution_count": 45,
   "metadata": {},
   "outputs": [
    {
     "name": "stdout",
     "output_type": "stream",
     "text": [
      "Projected  poulation of France in 2100:  65543452\n"
     ]
    }
   ],
   "source": [
    "print(\"Projected  poulation of France in 2100: \", mat[230][2])"
   ]
  },
  {
   "cell_type": "markdown",
   "metadata": {},
   "source": [
    "6. What 5 entries will have the highest population in 2100? Display their records."
   ]
  },
  {
   "cell_type": "code",
   "execution_count": 54,
   "metadata": {},
   "outputs": [
    {
     "data": {
      "text/html": [
       "<div>\n",
       "<style scoped>\n",
       "    .dataframe tbody tr th:only-of-type {\n",
       "        vertical-align: middle;\n",
       "    }\n",
       "\n",
       "    .dataframe tbody tr th {\n",
       "        vertical-align: top;\n",
       "    }\n",
       "\n",
       "    .dataframe thead th {\n",
       "        text-align: right;\n",
       "    }\n",
       "</style>\n",
       "<table border=\"1\" class=\"dataframe\">\n",
       "  <thead>\n",
       "    <tr style=\"text-align: right;\">\n",
       "      <th></th>\n",
       "      <th>countries</th>\n",
       "      <th>2024</th>\n",
       "      <th>2030</th>\n",
       "      <th>2100</th>\n",
       "    </tr>\n",
       "  </thead>\n",
       "  <tbody>\n",
       "    <tr>\n",
       "      <th>0</th>\n",
       "      <td>World</td>\n",
       "      <td>8118836000</td>\n",
       "      <td>8546141000</td>\n",
       "      <td>22901278109</td>\n",
       "    </tr>\n",
       "    <tr>\n",
       "      <th>1</th>\n",
       "      <td>Asia</td>\n",
       "      <td>4785060000</td>\n",
       "      <td>4958807000</td>\n",
       "      <td>12902801109</td>\n",
       "    </tr>\n",
       "    <tr>\n",
       "      <th>2</th>\n",
       "      <td>Africa</td>\n",
       "      <td>1494994000</td>\n",
       "      <td>1710666000</td>\n",
       "      <td>3924421000</td>\n",
       "    </tr>\n",
       "    <tr>\n",
       "      <th>3</th>\n",
       "      <td>Sub-Saharan Africa</td>\n",
       "      <td>1226534000</td>\n",
       "      <td>1417346000</td>\n",
       "      <td>3442347000</td>\n",
       "    </tr>\n",
       "    <tr>\n",
       "      <th>4</th>\n",
       "      <td>Central Asia and South Asia</td>\n",
       "      <td>2128585000</td>\n",
       "      <td>2258687000</td>\n",
       "      <td>2559659000</td>\n",
       "    </tr>\n",
       "    <tr>\n",
       "      <th>...</th>\n",
       "      <td>...</td>\n",
       "      <td>...</td>\n",
       "      <td>...</td>\n",
       "      <td>...</td>\n",
       "    </tr>\n",
       "    <tr>\n",
       "      <th>184</th>\n",
       "      <td>Saint Helena Ascension and Tristan da Cunha</td>\n",
       "      <td>5253</td>\n",
       "      <td>4895</td>\n",
       "      <td>2803</td>\n",
       "    </tr>\n",
       "    <tr>\n",
       "      <th>229</th>\n",
       "      <td>Falkland Islands</td>\n",
       "      <td>3803</td>\n",
       "      <td>3869</td>\n",
       "      <td>2773</td>\n",
       "    </tr>\n",
       "    <tr>\n",
       "      <th>145</th>\n",
       "      <td>Montserrat</td>\n",
       "      <td>4372</td>\n",
       "      <td>4301</td>\n",
       "      <td>2575</td>\n",
       "    </tr>\n",
       "    <tr>\n",
       "      <th>154</th>\n",
       "      <td>Niue</td>\n",
       "      <td>1935</td>\n",
       "      <td>1948</td>\n",
       "      <td>2225</td>\n",
       "    </tr>\n",
       "    <tr>\n",
       "      <th>188</th>\n",
       "      <td>Vatican City</td>\n",
       "      <td>526</td>\n",
       "      <td>561</td>\n",
       "      <td>1237</td>\n",
       "    </tr>\n",
       "  </tbody>\n",
       "</table>\n",
       "<p>258 rows × 4 columns</p>\n",
       "</div>"
      ],
      "text/plain": [
       "                                       countries        2024        2030  \\\n",
       "0                                          World  8118836000  8546141000   \n",
       "1                                           Asia  4785060000  4958807000   \n",
       "2                                         Africa  1494994000  1710666000   \n",
       "3                             Sub-Saharan Africa  1226534000  1417346000   \n",
       "4                    Central Asia and South Asia  2128585000  2258687000   \n",
       "..                                           ...         ...         ...   \n",
       "184  Saint Helena Ascension and Tristan da Cunha        5253        4895   \n",
       "229                             Falkland Islands        3803        3869   \n",
       "145                                   Montserrat        4372        4301   \n",
       "154                                         Niue        1935        1948   \n",
       "188                                 Vatican City         526         561   \n",
       "\n",
       "            2100  \n",
       "0    22901278109  \n",
       "1    12902801109  \n",
       "2     3924421000  \n",
       "3     3442347000  \n",
       "4     2559659000  \n",
       "..           ...  \n",
       "184         2803  \n",
       "229         2773  \n",
       "145         2575  \n",
       "154         2225  \n",
       "188         1237  \n",
       "\n",
       "[258 rows x 4 columns]"
      ]
     },
     "execution_count": 54,
     "metadata": {},
     "output_type": "execute_result"
    }
   ],
   "source": [
    "df_a.sort_values(by=2100, ascending=False)\n",
    "#for i in mat:\n",
    "    #df_a.describe()\n",
    "    #print(mat[i])"
   ]
  },
  {
   "cell_type": "markdown",
   "metadata": {},
   "source": [
    "### `pandas` method reference\n",
    "\n",
    "- `df.head(x)` and `df.tail(x)` will give you the first or the last `x` number of rows respectively\n",
    "- `df.describe()` will give you a **five number summary** of the numeric columns\n",
    "- `df.max()` and `.min()` will with you the maximum and the minimum of the column repectively\n",
    "- `df[column]` will give you the column specified\n",
    "- `df.iloc[index]` will give you the row at a given index\n",
    "- `df.boxplot` will create a box plot of all numeric columns\n",
    "- `df.sort_values(by=col, ascending=False)`sorts the values of the col in either ascending or descending order\n"
   ]
  },
  {
   "cell_type": "markdown",
   "metadata": {},
   "source": [
    "7. What was country with the smallest population in 2024?"
   ]
  },
  {
   "cell_type": "code",
   "execution_count": 138,
   "metadata": {},
   "outputs": [
    {
     "name": "stdout",
     "output_type": "stream",
     "text": [
      "526\n",
      "\n",
      " countries    Vatican City\n",
      "2024                  526\n",
      "2030                  561\n",
      "2100                 1237\n",
      "Name: 188, dtype: object\n",
      "\n",
      " Vatican City\n"
     ]
    }
   ],
   "source": [
    "#mat = coutries (index is each country)\n",
    "#columns \n",
    "#titles \n",
    "\n",
    "#print(df_a.min())\n",
    "print(df_a[2024].min())\n",
    "#.min()\n",
    "\n",
    "#x = df_a[1].min()\n",
    "#.iloc[\"526\"]\n",
    "#print(x)\n",
    "#df_a[\"526\"]\n",
    "#df_a.iloc[0][1:0]\n",
    "\n",
    "#df_a[2024]\n",
    "mat[188][3]\n",
    "print('\\n', df_a.iloc[188])\n",
    "#print(df_a.iloc[][1:0].min())\n",
    "#you're onto some stuff from here. \n",
    "#play with order of operations of things. \n",
    "\n",
    "print('\\n', \"Vatican City\")\n"
   ]
  },
  {
   "cell_type": "markdown",
   "metadata": {},
   "source": [
    "### `pandas` method reference\n",
    "\n",
    "- `df.head(x)` and `df.tail(x)` will give you the first or the last `x` number of rows respectively\n",
    "- `df.describe()` will give you a **five number summary** of the numeric columns\n",
    "- `df.max()` and `.min()` will with you the maximum and the minimum of the column repectively\n",
    "- `df[column]` will give you the column specified\n",
    "- `df.iloc[index]` will give you the row at a given index\n",
    "- `df.boxplot` will create a box plot of all numeric columns\n",
    "- `df.sort_values(by=col, ascending=False)`sorts the values of the col in either ascending or descending order\n"
   ]
  },
  {
   "cell_type": "markdown",
   "metadata": {},
   "source": [
    "4. Create a plot of temperature over time with `matplotlib`. \n",
    "\n",
    "Import the library with `import matplotlib.pyplot as plt`. The `plot()` method creates a line graphs of temperature over time. Use `plt.plot(df['x_col'],df['y_col'],marker='h')` then `plt.show()` to create your plot of temperature over time. \n",
    "\n",
    "Before `plt.show()`, add the following methods to modify your graph. Remember, **good graphs always have axis labels, a title, clear units etc.**\n",
    "\n",
    "```\n",
    "plt.xlabel('') # labels the x-axis\n",
    "plt.ylabel('') # labels the y-axis\n",
    "plt.title('') # adds a graph title\n",
    "plt.grid() # adds gridlines\n",
    "plt.legend() # adds a legend\n",
    "plt.xticks(rotation=90) # rotates the x-axis tick lables\n",
    "plt.yticks(rotation=90) # rotates the y-axis tick lables\n",
    "```"
   ]
  },
  {
   "cell_type": "markdown",
   "metadata": {},
   "source": [
    "8. Create a plot with `plot()` to compare the population of Austria, Germany, United States, and France from 2024-2100. Your graph needs to include a  proper title, axis labels, and legend."
   ]
  },
  {
   "cell_type": "code",
   "execution_count": null,
   "metadata": {},
   "outputs": [
    {
     "data": {
      "image/png": "[encoded data removed]",
      "text/plain": [
       "<Figure size 640x480 with 1 Axes>"
      ]
     },
     "metadata": {},
     "output_type": "display_data"
    }
   ],
   "source": [
    "import matplotlib.pyplot as plt\n",
    "\n",
    "years = [2024, 2030, 2100]\n",
    "austria = [int(df_a[2024].iloc[34]), int(df_a[2030].iloc[34]), int(df_a[2100].iloc[34])]\n",
    "germany = [int(df_a[2024].iloc[68]), int(df_a[2030].iloc[68]), int(df_a[2100].iloc[68])]\n",
    "united_states = [int(df_a[2024].iloc[178]), int(df_a[2030].iloc[178]), int(df_a[2100].iloc[178])]\n",
    "france = [int(df_a[2024].iloc[231]), int(df_a[2030].iloc[231]), int(df_a[2100].iloc[231])]\n",
    "\n",
    "plt.plot(years, austria, label = 'Austria')\n",
    "plt.plot(years, germany, label = 'Germany')\n",
    "plt.plot(years, united_states, label = 'United States')\n",
    "plt.plot(years, france, label = 'France')\n",
    "plt.xlabel('Year')\n",
    "plt.ylabel('Population in ')\n",
    "plt.title('Population of 4 countries over x years')\n",
    "plt.legend()\n",
    "plt.grid()\n",
    "plt.xticks(rotation=90)\n",
    "plt.yticks(rotation=90)\n",
    "plt.show()\n",
    "#2024: austria:9,120,000; germany:83,252,000; \\\n",
    "#2024: US:341,814,000; france:64,881,000\n",
    "\n"
   ]
  }
 ],
 "metadata": {
  "kernelspec": {
   "display_name": "Python 3",
   "language": "python",
   "name": "python3"
  },
  "language_info": {
   "codemirror_mode": {
    "name": "ipython",
    "version": 3
   },
   "file_extension": ".py",
   "mimetype": "text/x-python",
   "name": "python",
   "nbconvert_exporter": "python",
   "pygments_lexer": "ipython3",
   "version": "3.12.3"
  }
 },
 "nbformat": 4,
 "nbformat_minor": 2
}
